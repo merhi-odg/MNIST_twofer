{
 "cells": [
  {
   "cell_type": "markdown",
   "metadata": {},
   "source": [
    "# Model Training and Storing"
   ]
  },
  {
   "cell_type": "code",
   "execution_count": 48,
   "metadata": {},
   "outputs": [],
   "source": [
    "from sklearn import svm, metrics\n",
    "import matplotlib.pyplot as plt\n",
    "import numpy as np\n",
    "import pandas as pd\n",
    "import json\n",
    "import pickle\n",
    "import joblib"
   ]
  },
  {
   "cell_type": "code",
   "execution_count": 49,
   "metadata": {},
   "outputs": [],
   "source": [
    "# Load data from JSON-line files\n",
    "train_records = pd.read_json(\"./data/train.json\",orient=\"records\", lines=True)\n",
    "test_records = pd.read_json(\"./data/test.json\",orient=\"records\", lines=True)"
   ]
  },
  {
   "cell_type": "code",
   "execution_count": 50,
   "metadata": {},
   "outputs": [],
   "source": [
    "# flatten the images (Pixel values)\n",
    "X_test = test_records.array\n",
    "X_train = train_records.array\n",
    "data_test = np.array(X_test.to_list()).reshape(10000,-1)\n",
    "data_train = np.array(X_train.to_list()).reshape(60000,-1)"
   ]
  },
  {
   "cell_type": "code",
   "execution_count": 51,
   "metadata": {},
   "outputs": [],
   "source": [
    "# Labels\n",
    "y_test=test_records.label\n",
    "y_train=train_records.label"
   ]
  },
  {
   "cell_type": "code",
   "execution_count": 52,
   "metadata": {},
   "outputs": [],
   "source": [
    "# Create an SVM classifier\n",
    "clf = svm.SVC(\n",
    "    gamma=0.001, \n",
    "    probability=True\n",
    ")\n",
    "\n",
    "# Fit the model on training data\n",
    "clf.fit(data_train, y_train)\n",
    "\n",
    "# Predict (digit) on test data\n",
    "predicted = clf.predict(data_test)"
   ]
  },
  {
   "cell_type": "code",
   "execution_count": 53,
   "metadata": {},
   "outputs": [
    {
     "name": "stdout",
     "output_type": "stream",
     "text": [
      "Classification report for classifier SVC(gamma=0.001, probability=True):\n",
      "              precision    recall  f1-score   support\n",
      "\n",
      "           0       0.96      0.99      0.97       980\n",
      "           1       0.97      0.99      0.98      1135\n",
      "           2       0.94      0.92      0.93      1032\n",
      "           3       0.93      0.94      0.93      1010\n",
      "           4       0.92      0.95      0.94       982\n",
      "           5       0.92      0.91      0.92       892\n",
      "           6       0.95      0.96      0.96       958\n",
      "           7       0.95      0.93      0.94      1028\n",
      "           8       0.93      0.91      0.92       974\n",
      "           9       0.94      0.91      0.93      1009\n",
      "\n",
      "    accuracy                           0.94     10000\n",
      "   macro avg       0.94      0.94      0.94     10000\n",
      "weighted avg       0.94      0.94      0.94     10000\n",
      "\n",
      "\n"
     ]
    }
   ],
   "source": [
    "# Print a classification report\n",
    "print(\n",
    "    f\"Classification report for classifier {clf}:\\n\"\n",
    "    f\"{metrics.classification_report(y_test, predicted)}\\n\"\n",
    ")"
   ]
  },
  {
   "cell_type": "code",
   "execution_count": 54,
   "metadata": {},
   "outputs": [
    {
     "name": "stdout",
     "output_type": "stream",
     "text": [
      "Confusion matrix:\n",
      "[[ 967    0    2    0    0    5    4    1    1    0]\n",
      " [   0 1119    2    3    0    1    3    1    6    0]\n",
      " [  10    1  953    9   11    1   13   11   21    2]\n",
      " [   1    1   15  948    1   17    1   10   12    4]\n",
      " [   1    2    7    0  935    0    7    2    2   26]\n",
      " [   7    5    5   32    8  808   11    2    9    5]\n",
      " [   9    3    4    1    6   11  923    0    1    0]\n",
      " [   2   13   22    5    8    1    0  953    4   20]\n",
      " [   4    7    7   14    8   24   10    7  890    3]\n",
      " [   8    6    0   12   34    6    1   15    6  921]]\n"
     ]
    },
    {
     "data": {
      "image/png": "[encoded data removed]",
      "text/plain": [
       "<Figure size 432x288 with 2 Axes>"
      ]
     },
     "metadata": {
      "needs_background": "light"
     },
     "output_type": "display_data"
    }
   ],
   "source": [
    "# Plot a confusion matrix\n",
    "disp = metrics.ConfusionMatrixDisplay.from_predictions(y_test, predicted)\n",
    "disp.figure_.suptitle(\"Confusion Matrix\")\n",
    "print(f\"Confusion matrix:\\n{disp.confusion_matrix}\")\n",
    "\n",
    "plt.show()"
   ]
  },
  {
   "cell_type": "code",
   "execution_count": 56,
   "metadata": {},
   "outputs": [],
   "source": [
    "# Store saved model\n",
    "with open(\"./binaries/uncompressed_sklearn_mnist.pkl\", \"wb\") as f:\n",
    "    pickle.dump(clf, f)"
   ]
  },
  {
   "cell_type": "code",
   "execution_count": 55,
   "metadata": {},
   "outputs": [
    {
     "data": {
      "text/plain": [
       "['./binaries/sklearn_mnist.pkl']"
      ]
     },
     "execution_count": 55,
     "metadata": {},
     "output_type": "execute_result"
    }
   ],
   "source": [
    "# Compress and Store saved model\n",
    "import joblib\n",
    "joblib.dump(clf, \"./binaries/sklearn_mnist.pkl\", compress=3)"
   ]
  },
  {
   "cell_type": "code",
   "execution_count": 58,
   "metadata": {},
   "outputs": [
    {
     "name": "stdout",
     "output_type": "stream",
     "text": [
      "Sample prediction :  [7]\n",
      "Sample probability:  [[2.63275252e-04 2.70762117e-06 3.97105281e-04 3.49581103e-03\n",
      "  3.60987905e-05 5.99369886e-05 7.53118906e-07 9.94802720e-01\n",
      "  3.45988000e-05 9.06993534e-04]]\n"
     ]
    }
   ],
   "source": [
    "# To test that the saved model can be loaded and used for predictions, we proceed as follows:\n",
    "model_from_saved_model = joblib.load(open(\"./binaries/sklearn_mnist.pkl\", \"rb\"))\n",
    "print(\"Sample prediction : \", model_from_saved_model.predict(data_test[:1]))\n",
    "print(\"Sample probability: \", model_from_saved_model.predict_proba(data_test[:1]))"
   ]
  },
  {
   "cell_type": "markdown",
   "metadata": {},
   "source": [
    "# Input/Output Schema"
   ]
  },
  {
   "cell_type": "code",
   "execution_count": 59,
   "metadata": {},
   "outputs": [],
   "source": [
    "# input_schema.avsc\n",
    "\n",
    "input_schema = {\n",
    "    \"name\": \"input_schema\",\n",
    "    \"type\": \"record\",\n",
    "    \"fields\": [\n",
    "        {\n",
    "            \"name\": \"id\",\n",
    "            \"type\": \"int\"\n",
    "        },\n",
    "        {\n",
    "            \"name\": \"array\",\n",
    "            \"type\": {\n",
    "                \"type\": \"array\",\n",
    "                \"items\": {\n",
    "                    \"type\": \"array\",\n",
    "                    \"items\": \"float\"\n",
    "                }\n",
    "            }\n",
    "        },\n",
    "        {\n",
    "            \"name\": \"label\",\n",
    "            \"type\": \"int\"\n",
    "        }\n",
    "    ]\n",
    "}\n",
    "\n",
    "\n",
    "output_schema = {\n",
    "    \"name\": \"output_schema\",\n",
    "    \"type\": \"record\",\n",
    "    \"fields\": [\n",
    "        {\n",
    "            \"name\": \"id\",\n",
    "            \"type\": \"int\"\n",
    "        },\n",
    "        {\n",
    "            \"name\": \"label\",\n",
    "            \"type\": \"int\"\n",
    "        },\n",
    "        {\n",
    "            \"name\": \"predicted_probs\",\n",
    "            \"type\": {\n",
    "                \"type\": \"array\",\n",
    "                \"items\": \"float\"\n",
    "            }\n",
    "        },\n",
    "        {\n",
    "            \"name\": \"score\",\n",
    "            \"type\": \"int\"\n",
    "        }\n",
    "    ]\n",
    "}\n",
    "\n",
    "with open(\"input_schema.avsc\", \"w\") as f:\n",
    "    json.dump(input_schema, f)\n",
    "f.close()\n",
    "\n",
    "with open(\"output_schema.avsc\", \"w\") as f:\n",
    "    json.dump(output_schema, f)\n",
    "f.close()"
   ]
  },
  {
   "cell_type": "markdown",
   "metadata": {},
   "source": [
    "# Model Script"
   ]
  },
  {
   "cell_type": "code",
   "execution_count": 60,
   "metadata": {},
   "outputs": [],
   "source": [
    "# modelop.schema.0: input_schema.avsc\n",
    "# modelop.schema.1: output_schema.avsc\n",
    "\n",
    "import joblib\n",
    "import numpy as np\n",
    "\n",
    "\n",
    "# modelop.init\n",
    "def begin():\n",
    "    global model\n",
    "    # Loading model from trained artifact    \n",
    "    model = joblib.load(open(\"./binaries/sklearn_mnist.pkl\",\"rb\"))\n",
    "\n",
    "\n",
    "# modelop.score\n",
    "def action(datum):\n",
    "    \n",
    "    # Compute 10 probabilities, 1 for each possible digit\n",
    "    predicted_probs = model.predict_proba(np.array(datum['array']).ravel().reshape(1,-1)).tolist()[0]\n",
    "    \n",
    "    # Add these probabilities to the output\n",
    "    datum[\"predicted_probs\"] = predicted_probs\n",
    "\n",
    "    # Add the best possible matching digit to the output\n",
    "    datum[\"score\"] = np.argmax(predicted_probs)\n",
    "\n",
    "    # Remove input array from output\n",
    "    del datum[\"array\"]\n",
    "    \n",
    "    yield datum"
   ]
  },
  {
   "cell_type": "code",
   "execution_count": 61,
   "metadata": {},
   "outputs": [],
   "source": [
    "# Let's test the model by running the begin() function to load the saved model first, then calling\n",
    "# the action function on a sample input image\n",
    "begin()\n",
    "\n",
    "sample_score = next(\n",
    "    action(\n",
    "        {\n",
    "            \"id\":0,\n",
    "            \"array\":[\n",
    "                [0,0,0,0,0,0,0,0,0,0,0,0,0,0,0,0,0,0,0,0,0,0,0,0,0,0,0,0],\n",
    "                [0,0,0,0,0,0,0,0,0,0,0,0,0,0,0,0,0,0,0,0,0,0,0,0,0,0,0,0],\n",
    "                [0,0,0,0,0,0,0,0,0,0,0,0,0,0,0,0,0,0,0,0,0,0,0,0,0,0,0,0],\n",
    "                [0,0,0,0,0,0,0,0,0,0,0,0,0,0,0,0,0,0,0,0,0,0,0,0,0,0,0,0],\n",
    "                [0,0,0,0,0,0,0,0,0,0,0,0,0,0,0,0,0,0,0,0,0,0,0,0,0,0,0,0],\n",
    "                [0,0,0,0,0,0,0,0,0,0,0,0,0.0117647059,0.0705882353,0.0705882353,0.0705882353,0.4941176471,0.5333333333,0.6862745098,0.1019607843,0.6509803922,1.0,0.968627451,0.4980392157,0,0,0,0],\n",
    "                [0,0,0,0,0,0,0,0,0.1176470588,0.1411764706,0.368627451,0.6039215686,0.6666666667,0.9921568627,0.9921568627,0.9921568627,0.9921568627,0.9921568627,0.8823529412,0.6745098039,0.9921568627,0.9490196078,0.7647058824,0.2509803922,0,0,0,0],\n",
    "                [0,0,0,0,0,0,0,0.1921568627,0.9333333333,0.9921568627,0.9921568627,0.9921568627,0.9921568627,0.9921568627,0.9921568627,0.9921568627,0.9921568627,0.9843137255,0.3647058824,0.3215686275,0.3215686275,0.2196078431,0.1529411765,0,0,0,0,0],\n",
    "                [0,0,0,0,0,0,0,0.0705882353,0.8588235294,0.9921568627,0.9921568627,0.9921568627,0.9921568627,0.9921568627,0.7764705882,0.7137254902,0.968627451,0.9450980392,0,0,0,0,0,0,0,0,0,0],\n",
    "                [0,0,0,0,0,0,0,0,0.3137254902,0.6117647059,0.4196078431,0.9921568627,0.9921568627,0.8039215686,0.0431372549,0,0.168627451,0.6039215686,0,0,0,0,0,0,0,0,0,0],\n",
    "                [0,0,0,0,0,0,0,0,0,0.0549019608,0.0039215686,0.6039215686,0.9921568627,0.3529411765,0,0,0,0,0,0,0,0,0,0,0,0,0,0],\n",
    "                [0,0,0,0,0,0,0,0,0,0,0,0.5450980392,0.9921568627,0.7450980392,0.0078431373,0,0,0,0,0,0,0,0,0,0,0,0,0],\n",
    "                [0,0,0,0,0,0,0,0,0,0,0,0.0431372549,0.7450980392,0.9921568627,0.2745098039,0,0,0,0,0,0,0,0,0,0,0,0,0],\n",
    "                [0,0,0,0,0,0,0,0,0,0,0,0,0.137254902,0.9450980392,0.8823529412,0.6274509804,0.4235294118,0.0039215686,0,0,0,0,0,0,0,0,0,0],\n",
    "                [0,0,0,0,0,0,0,0,0,0,0,0,0,0.3176470588,0.9411764706,0.9921568627,0.9921568627,0.4666666667,0.0980392157,0,0,0,0,0,0,0,0,0],\n",
    "                [0,0,0,0,0,0,0,0,0,0,0,0,0,0,0.1764705882,0.7294117647,0.9921568627,0.9921568627,0.5882352941,0.1058823529,0,0,0,0,0,0,0,0],\n",
    "                [0,0,0,0,0,0,0,0,0,0,0,0,0,0,0,0.062745098,0.3647058824,0.9882352941,0.9921568627,0.7333333333,0,0,0,0,0,0,0,0],\n",
    "                [0,0,0,0,0,0,0,0,0,0,0,0,0,0,0,0,0,0.9764705882,0.9921568627,0.9764705882,0.2509803922,0,0,0,0,0,0,0],\n",
    "                [0,0,0,0,0,0,0,0,0,0,0,0,0,0,0.1803921569,0.5098039216,0.7176470588,0.9921568627,0.9921568627,0.8117647059,0.0078431373,0,0,0,0,0,0,0],\n",
    "                [0,0,0,0,0,0,0,0,0,0,0,0,0.1529411765,0.5803921569,0.8980392157,0.9921568627,0.9921568627,0.9921568627,0.9803921569,0.7137254902,0,0,0,0,0,0,0,0],\n",
    "                [0,0,0,0,0,0,0,0,0,0,0.0941176471,0.4470588235,0.8666666667,0.9921568627,0.9921568627,0.9921568627,0.9921568627,0.7882352941,0.3058823529,0,0,0,0,0,0,0,0,0],\n",
    "                [0,0,0,0,0,0,0,0,0.0901960784,0.2588235294,0.8352941176,0.9921568627,0.9921568627,0.9921568627,0.9921568627,0.7764705882,0.3176470588,0.0078431373,0,0,0,0,0,0,0,0,0,0],\n",
    "                [0,0,0,0,0,0,0.0705882353,0.6705882353,0.8588235294,0.9921568627,0.9921568627,0.9921568627,0.9921568627,0.7647058824,0.3137254902,0.0352941176,0,0,0,0,0,0,0,0,0,0,0,0],\n",
    "                [0,0,0,0,0.2156862745,0.6745098039,0.8862745098,0.9921568627,0.9921568627,0.9921568627,0.9921568627,0.9568627451,0.5215686275,0.0431372549,0,0,0,0,0,0,0,0,0,0,0,0,0,0],\n",
    "                [0,0,0,0,0.5333333333,0.9921568627,0.9921568627,0.9921568627,0.831372549,0.5294117647,0.5176470588,0.062745098,0,0,0,0,0,0,0,0,0,0,0,0,0,0,0,0],\n",
    "                [0,0,0,0,0,0,0,0,0,0,0,0,0,0,0,0,0,0,0,0,0,0,0,0,0,0,0,0],\n",
    "                [0,0,0,0,0,0,0,0,0,0,0,0,0,0,0,0,0,0,0,0,0,0,0,0,0,0,0,0],\n",
    "                [0,0,0,0,0,0,0,0,0,0,0,0,0,0,0,0,0,0,0,0,0,0,0,0,0,0,0,0]\n",
    "            ],\n",
    "            \"label\":5\n",
    "        }\n",
    "    )\n",
    ")"
   ]
  },
  {
   "cell_type": "code",
   "execution_count": 62,
   "metadata": {},
   "outputs": [
    {
     "data": {
      "text/plain": [
       "{'id': 0,\n",
       " 'label': 5,\n",
       " 'predictes_probs': [0.001067094500798651,\n",
       "  0.000889057811453956,\n",
       "  0.011885932944350731,\n",
       "  0.12392592586563242,\n",
       "  8.91437288146051e-05,\n",
       "  0.8560558169237682,\n",
       "  0.0003376030798716899,\n",
       "  0.001987141397948426,\n",
       "  0.002563834081063412,\n",
       "  0.0011984496662976257],\n",
       " 'score': 5}"
      ]
     },
     "execution_count": 62,
     "metadata": {},
     "output_type": "execute_result"
    }
   ],
   "source": [
    "# Here's the output dictionary\n",
    "sample_score"
   ]
  },
  {
   "cell_type": "code",
   "execution_count": null,
   "metadata": {},
   "outputs": [],
   "source": []
  }
 ],
 "metadata": {
  "interpreter": {
   "hash": "1bc0af681b6debbd76b10de7ba3014cd62e1e3ee55e8e9a892bbbe23fd8d618c"
  },
  "kernelspec": {
   "display_name": "Python 3.6.9 64-bit ('modelop': conda)",
   "name": "python3"
  },
  "language_info": {
   "codemirror_mode": {
    "name": "ipython",
    "version": 3
   },
   "file_extension": ".py",
   "mimetype": "text/x-python",
   "name": "python",
   "nbconvert_exporter": "python",
   "pygments_lexer": "ipython3",
   "version": "3.8.3"
  }
 },
 "nbformat": 4,
 "nbformat_minor": 2
}
